{
 "cells": [
  {
   "cell_type": "markdown",
   "id": "060cc288-74b0-4275-9315-264e696d4813",
   "metadata": {},
   "source": [
    "# Text-to-speech (TTS) conversion with pyttsx3"
   ]
  },
  {
   "cell_type": "code",
   "execution_count": 1,
   "id": "440ee2ad-73da-4bb3-afde-3d0f9ecf5ab0",
   "metadata": {},
   "outputs": [],
   "source": [
    "# pip install wisper pyttsx3 pyobjc"
   ]
  },
  {
   "cell_type": "code",
   "execution_count": 14,
   "id": "1cca7495-84aa-48c7-87a8-95cf77631e0f",
   "metadata": {},
   "outputs": [],
   "source": [
    "import pyttsx3\n",
    "\n",
    "def speak_text(text):\n",
    "    # Initialize the text-to-speech engine\n",
    "    engine = pyttsx3.init()\n",
    "    \n",
    "    # Set properties (optional)\n",
    "    engine.setProperty('rate', 150)  # Speed of speech\n",
    "    engine.setProperty('volume', 1.0)  # Volume level (0.0 to 1.0)\n",
    "\n",
    "    # Speak the input text\n",
    "    engine.say(text)\n",
    "    engine.runAndWait()"
   ]
  },
  {
   "cell_type": "code",
   "execution_count": 12,
   "id": "0eb35ccc-027b-4c64-9196-fd25e39a7dfa",
   "metadata": {},
   "outputs": [],
   "source": [
    "text = \"Hello, everyone! Welcome to this exciting event hosted by Northwave Cybersecurity. It's great to have all our esteemed clients, our fantastic colleagues, and everyone involved here today. Willkommen an unsere deutschen Gäste. Es ist großartig, Sie hier zu haben. Is there anyone from Belgium or the Nordics in the audience? Make some noise! I guess it was too far for them to come today. Now, I'll hand over the stage to my master. Wishing you a super awesome presentation!\"\n",
    "speak_text(text)"
   ]
  },
  {
   "cell_type": "markdown",
   "id": "ce82b256-be17-47f9-95e2-a7715ff6ad9c",
   "metadata": {},
   "source": [
    "# Text-to-speech (TTS) conversion with gtts"
   ]
  },
  {
   "cell_type": "code",
   "execution_count": 17,
   "id": "745fa72e-d45d-4ad9-99fb-546e8fb824b5",
   "metadata": {},
   "outputs": [],
   "source": [
    "# !pip install gtts playsound"
   ]
  },
  {
   "cell_type": "code",
   "execution_count": 24,
   "id": "9ef7f903-31a4-4f00-a47b-f582a6841e9d",
   "metadata": {},
   "outputs": [],
   "source": [
    "from gtts import gTTS\n",
    "import playsound\n",
    "import os\n",
    "\n",
    "def speak_text(text,lang):\n",
    "    # Convert text to speech\n",
    "    tts = gTTS(text=text, lang=lang)\n",
    "    \n",
    "    # Save the speech to a file\n",
    "    filename = \"temp.mp3\"\n",
    "    tts.save(filename)\n",
    "    \n",
    "    # Play the speech\n",
    "    playsound.playsound(filename)\n",
    "    \n",
    "    # Remove the temporary file\n",
    "    os.remove(filename)"
   ]
  },
  {
   "cell_type": "code",
   "execution_count": 25,
   "id": "b35749f2-8a0c-4293-a667-898d66b0922d",
   "metadata": {},
   "outputs": [],
   "source": [
    "text = \"Hello, everyone! Welcome to this exciting event hosted by Northwave Cybersecurity. It's great to have all our esteemed clients, our fantastic colleagues, and everyone involved here today.\"\n",
    "speak_text(text,'en')\n",
    "\n",
    "text = \"Willkommen an unsere deutschen Gäste. Es ist großartig, Sie hier zu haben.\"\n",
    "speak_text(text,'de')\n",
    "\n",
    "text = \"Is there anyone from Belgium or the Nordics in the audience? Make some noise! I guess it was too far for them to come today. Now, I'll hand over the stage to my master. Wishing you a super awesome presentation!\"\n",
    "speak_text(text,'en')"
   ]
  }
 ],
 "metadata": {
  "kernelspec": {
   "display_name": "Python 3 (ipykernel)",
   "language": "python",
   "name": "python3"
  },
  "language_info": {
   "codemirror_mode": {
    "name": "ipython",
    "version": 3
   },
   "file_extension": ".py",
   "mimetype": "text/x-python",
   "name": "python",
   "nbconvert_exporter": "python",
   "pygments_lexer": "ipython3",
   "version": "3.12.2"
  }
 },
 "nbformat": 4,
 "nbformat_minor": 5
}
